{
  "nbformat": 4,
  "nbformat_minor": 0,
  "metadata": {
    "colab": {
      "name": "DhanshreeVyas_NLP_Assignment-1.ipynb",
      "provenance": [],
      "collapsed_sections": []
    },
    "kernelspec": {
      "name": "python3",
      "display_name": "Python 3"
    }
  },
  "cells": [
    {
      "cell_type": "markdown",
      "metadata": {
        "id": "7KThRWg0sWLB"
      },
      "source": [
        "1. Implement pos tagging in movie review corpus."
      ]
    },
    {
      "cell_type": "code",
      "metadata": {
        "id": "zqIZI276oDqI"
      },
      "source": [
        "import nltk\r\n",
        "nltk.download('all')"
      ],
      "execution_count": null,
      "outputs": []
    },
    {
      "cell_type": "code",
      "metadata": {
        "id": "8pa6AgWEtFcz"
      },
      "source": [
        "from nltk.corpus import movie_reviews\r\n",
        "nltk.download('movie_reviews')"
      ],
      "execution_count": null,
      "outputs": []
    },
    {
      "cell_type": "code",
      "metadata": {
        "id": "kL0kXKfs8BYN"
      },
      "source": [
        "from nltk.tokenize import PunktSentenceTokenizer\r\n",
        "nltk.download('punkt')"
      ],
      "execution_count": null,
      "outputs": []
    },
    {
      "cell_type": "code",
      "metadata": {
        "id": "_WN6RQlq8BBW"
      },
      "source": [
        "movie_reviews.fileids()"
      ],
      "execution_count": null,
      "outputs": []
    },
    {
      "cell_type": "code",
      "metadata": {
        "id": "_yX07Exvuhit"
      },
      "source": [
        "movie_review1 = movie_reviews.raw('neg/cv002_17424.txt')\r\n",
        "movie_review1"
      ],
      "execution_count": null,
      "outputs": []
    },
    {
      "cell_type": "code",
      "metadata": {
        "id": "RfCxDgGozEOw"
      },
      "source": [
        "custom_sent_tokenize = PunktSentenceTokenizer(movie_review1)\r\n",
        "custom_sent_tokenize"
      ],
      "execution_count": null,
      "outputs": []
    },
    {
      "cell_type": "code",
      "metadata": {
        "id": "ieV6p1sSw1qM"
      },
      "source": [
        "movie_test_review = movie_reviews.raw('neg/cv007_4992.txt')\r\n",
        "movie_test_review"
      ],
      "execution_count": null,
      "outputs": []
    },
    {
      "cell_type": "code",
      "metadata": {
        "id": "BWN_zcQuxojW"
      },
      "source": [
        "tokenizedreview = custom_sent_tokenize.tokenize(movie_test_review)\r\n",
        "tokenizedreview"
      ],
      "execution_count": null,
      "outputs": []
    },
    {
      "cell_type": "code",
      "metadata": {
        "id": "DBkh0-JWyTFB"
      },
      "source": [
        "def process():\r\n",
        "  for i in tokenizedreview:\r\n",
        "    words = nltk.word_tokenize(i)\r\n",
        "    tag = nltk.pos_tag(words)\r\n",
        "    print(tag)"
      ],
      "execution_count": 84,
      "outputs": []
    },
    {
      "cell_type": "code",
      "metadata": {
        "id": "ANUUPxIkyg0F"
      },
      "source": [
        "process()"
      ],
      "execution_count": null,
      "outputs": []
    },
    {
      "cell_type": "markdown",
      "metadata": {
        "id": "LpbJCvNv4NCG"
      },
      "source": [
        "2. Calculate number of words in a positive review excluding stop words."
      ]
    },
    {
      "cell_type": "code",
      "metadata": {
        "id": "ygoZwsmT5Z_s"
      },
      "source": [
        "movie_reviews.categories()"
      ],
      "execution_count": null,
      "outputs": []
    },
    {
      "cell_type": "code",
      "metadata": {
        "id": "sTG3xVEQ6Gg7"
      },
      "source": [
        "movie_reviews.fileids('pos')"
      ],
      "execution_count": null,
      "outputs": []
    },
    {
      "cell_type": "code",
      "metadata": {
        "id": "OYvKnZe07s5-"
      },
      "source": [
        "movie_review2 = movie_reviews.raw('pos/cv948_24606.txt')\r\n",
        "movie_review2"
      ],
      "execution_count": null,
      "outputs": []
    },
    {
      "cell_type": "code",
      "metadata": {
        "id": "yX12HfzZ8ugV"
      },
      "source": [
        "pos_moviereview_tokenize = PunktSentenceTokenizer(movie_review2)\r\n",
        "pos_moviereview_tokenize"
      ],
      "execution_count": null,
      "outputs": []
    },
    {
      "cell_type": "code",
      "metadata": {
        "id": "hSuUjyJm979w"
      },
      "source": [
        "test_tokenizedreview = pos_moviereview_tokenize.tokenize(movie_review2)\r\n",
        "test_tokenizedreview"
      ],
      "execution_count": null,
      "outputs": []
    },
    {
      "cell_type": "code",
      "metadata": {
        "id": "8Zmjw5C2AMRd"
      },
      "source": [
        "from nltk.corpus import stopwords\r\n",
        "stopword = stopwords.words('english')\r\n",
        "stopword"
      ],
      "execution_count": null,
      "outputs": []
    },
    {
      "cell_type": "code",
      "metadata": {
        "id": "IoD_afzCAsTP"
      },
      "source": [
        "wordcount = 0\r\n",
        "for i in test_tokenizedreview:\r\n",
        "  words = nltk.word_tokenize(i)\r\n",
        "  if words not in stopword:\r\n",
        "    wordcount = wordcount+1\r\n",
        "\r\n",
        "wordcount"
      ],
      "execution_count": null,
      "outputs": []
    }
  ]
}